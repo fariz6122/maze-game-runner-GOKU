{
 "cells": [
  {
   "cell_type": "code",
   "execution_count": 5,
   "id": "7149a8fc-909a-4406-b45a-65f10475be5e",
   "metadata": {},
   "outputs": [
    {
     "name": "stdout",
     "output_type": "stream",
     "text": [
      "You win!\n"
     ]
    }
   ],
   "source": [
    "import pygame\n",
    "\n",
    "def run_maze_game():\n",
    "    pygame.init()\n",
    "    WIDTH, HEIGHT = 600, 600\n",
    "    TILE_SIZE = WIDTH // 10\n",
    "    WHITE = (255, 255, 255)\n",
    "    BLACK = (0, 0, 0)\n",
    "\n",
    "    # Load images (use raw strings or forward slashes for file paths)\n",
    "    player_image = pygame.image.load(r'C:\\Users\\abu sidrat sarim\\Desktop\\667bac75e15b05a93f9ac0fe3d152388.jpg')\n",
    "    exit_image = pygame.image.load(r'C:\\Users\\abu sidrat sarim\\Desktop\\51qn+g7S7oL.jpg')\n",
    "\n",
    "    player_image = pygame.transform.scale(player_image, (TILE_SIZE, TILE_SIZE))  # Scale to fit the tile size\n",
    "    exit_image = pygame.transform.scale(exit_image, (TILE_SIZE, TILE_SIZE))\n",
    "\n",
    "    maze = [\n",
    "        [1, 1, 1, 1, 1, 1, 1, 1, 1, 1],\n",
    "        [1, 0, 0, 1, 0, 0, 0, 0, 0, 1],\n",
    "        [1, 0, 1, 1, 0, 1, 1, 1, 0, 1],\n",
    "        [1, 0, 1, 0, 0, 0, 0, 1, 0, 1],\n",
    "        [1, 0, 1, 0, 1, 1, 0, 1, 0, 1],\n",
    "        [1, 0, 0, 0, 1, 0, 0, 1, 0, 1],\n",
    "        [1, 1, 1, 0, 1, 0, 1, 1, 0, 1],\n",
    "        [1, 0, 0, 0, 0, 0, 1, 0, 0, 1],\n",
    "        [1, 0, 1, 1, 1, 1, 1, 0, 1, 1],\n",
    "        [1, 1, 1, 1, 1, 1, 1, 1, 1, 1],\n",
    "    ]\n",
    "\n",
    "    player_pos = [1, 1]\n",
    "    exit_pos = [7, 8]\n",
    "    screen = pygame.display.set_mode((WIDTH, HEIGHT))\n",
    "    pygame.display.set_caption(\"Maze Game\")\n",
    "    clock = pygame.time.Clock()\n",
    "\n",
    "    running = True\n",
    "    while running:\n",
    "        for event in pygame.event.get():\n",
    "            if event.type == pygame.QUIT:\n",
    "                running = False\n",
    "\n",
    "        keys = pygame.key.get_pressed()\n",
    "        new_pos = player_pos[:]\n",
    "        if keys[pygame.K_UP]:\n",
    "            new_pos[0] -= 1\n",
    "        if keys[pygame.K_DOWN]:\n",
    "            new_pos[0] += 1\n",
    "        if keys[pygame.K_LEFT]:\n",
    "            new_pos[1] -= 1\n",
    "        if keys[pygame.K_RIGHT]:\n",
    "            new_pos[1] += 1\n",
    "\n",
    "        if maze[new_pos[0]][new_pos[1]] == 0:\n",
    "            player_pos = new_pos\n",
    "\n",
    "        if player_pos == exit_pos:\n",
    "            print(\"You win!\")\n",
    "            running = False\n",
    "\n",
    "        screen.fill(WHITE)\n",
    "        for row in range(10):\n",
    "            for col in range(10):\n",
    "                color = BLACK if maze[row][col] == 1 else WHITE\n",
    "                pygame.draw.rect(screen, color, (col * TILE_SIZE, row * TILE_SIZE, TILE_SIZE, TILE_SIZE))\n",
    "\n",
    "        # Draw player and exit images\n",
    "        screen.blit(player_image, (player_pos[1] * TILE_SIZE, player_pos[0] * TILE_SIZE))\n",
    "        screen.blit(exit_image, (exit_pos[1] * TILE_SIZE, exit_pos[0] * TILE_SIZE))\n",
    "\n",
    "        pygame.display.flip()\n",
    "        clock.tick(30)\n",
    "\n",
    "    pygame.quit()\n",
    "\n",
    "run_maze_game()\n"
   ]
  },
  {
   "cell_type": "code",
   "execution_count": null,
   "id": "25d54cf0-3145-4f86-8f95-0ecf06f36f33",
   "metadata": {},
   "outputs": [],
   "source": []
  }
 ],
 "metadata": {
  "kernelspec": {
   "display_name": "Python 3 (ipykernel)",
   "language": "python",
   "name": "python3"
  },
  "language_info": {
   "codemirror_mode": {
    "name": "ipython",
    "version": 3
   },
   "file_extension": ".py",
   "mimetype": "text/x-python",
   "name": "python",
   "nbconvert_exporter": "python",
   "pygments_lexer": "ipython3",
   "version": "3.11.7"
  }
 },
 "nbformat": 4,
 "nbformat_minor": 5
}
